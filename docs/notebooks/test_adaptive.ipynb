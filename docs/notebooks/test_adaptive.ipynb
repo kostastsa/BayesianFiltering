{
 "cells": [
  {
   "cell_type": "code",
   "execution_count": null,
   "metadata": {},
   "outputs": [],
   "source": [
    "from jax import numpy as jnp\n",
    "from jax import jacfwd, jacrev, jit, vmap, lax, make_jaxpr\n",
    "from jax import random as jr\n",
    "from jax import tree_util as jtu\n",
    "import jax\n",
    "from functools import partial\n",
    "import tensorflow\n",
    "\n",
    "import gaussfiltax.utils as utils\n",
    "import gaussfiltax.containers as containers\n",
    "from tensorflow_probability.substrates.jax.distributions import MultivariateNormalFullCovariance as MVN\n",
    "import time\n",
    "import gaussfiltax.inference as gf\n",
    "import gaussfiltax.particlefilt as pf\n",
    "from gaussfiltax.models import ParamsNLSSM, NonlinearGaussianSSM, NonlinearSSM, ParamsBPF\n",
    "\n",
    "import matplotlib.pyplot as plt\n",
    "import matplotlib_inline\n",
    "from IPython.display import set_matplotlib_formats\n",
    "matplotlib_inline.backend_inline.set_matplotlib_formats('svg')"
   ]
  },
  {
   "attachments": {},
   "cell_type": "markdown",
   "metadata": {},
   "source": [
    "## Models and simulations"
   ]
  },
  {
   "cell_type": "code",
   "execution_count": null,
   "metadata": {},
   "outputs": [],
   "source": [
    "# Parameters\n",
    "state_dim = 3\n",
    "state_noise_dim = 3\n",
    "emission_dim = 1\n",
    "emission_noise_dim = 1\n",
    "seq_length = 1000\n",
    "mu0 = jnp.zeros(state_dim)\n",
    "Sigma0 = 1.0 * jnp.eye(state_dim)\n",
    "Q = 1.0 * jnp.eye(state_noise_dim)\n",
    "R = 1.0 * jnp.eye(emission_noise_dim)\n",
    "\n",
    "# ICASSP\n",
    "f1 = lambda x, q, u: (1-u) * x / 2.  + u * jnp.sin(10 * x) + q\n",
    "g1 = lambda x, r, u:  1.0 * jnp.dot(x, x) + r\n",
    "def g1lp(x,y,u):\n",
    "    return MVN(loc = g1(x, 0.0, u), covariance_matrix = R).log_prob(y)\n",
    "\n",
    "\n",
    "# Lorenz 63\n",
    "def lorentz_63(x, sigma=10, rho=28, beta=2.667, dt=0.01):\n",
    "    dx = dt * sigma * (x[1] - x[0])\n",
    "    dy = dt * (x[0] * rho - x[1] - x[0] *x[2]) \n",
    "    dz = dt * (x[0] * x[1] - beta * x[2])\n",
    "    return jnp.array([dx+x[0], dy+x[1], dz+x[2]])\n",
    "f63 = lambda x, q, u: lorentz_63(x) + q\n",
    "\n",
    "# stochastic growth model\n",
    "f3 = lambda x, q, u: x / 2. + 25. * x / (1 + jnp.power(x, 2)) * u + q\n",
    "g3 = lambda x, r, u: 0.8 * x + r\n",
    "def g3lp(x,y,u):\n",
    "    return MVN(loc = g3(x, 0.0, u), covariance_matrix = R).log_prob(y)\n",
    "\n",
    "\n",
    "# Stochastic Volatility\n",
    "alpha = 0.91\n",
    "sigma = 1.0\n",
    "beta = 0.5\n",
    "f = lambda x, q, u: alpha * x + sigma * q\n",
    "h = lambda x, r, u: beta * jnp.exp(x/2) * r\n",
    "def svlp(x,y,u):\n",
    "    return MVN(loc = h(x, 0.0, u), covariance_matrix = h(x, 1.0, u)**2 * R).log_prob(y)\n",
    "\n",
    "# Multivariate SV\n",
    "Phi = 0.8 * jnp.eye(state_dim)\n",
    "f_msv = lambda x, q, u: Phi @ x +  q\n",
    "h_msv = lambda x, r, u: 0.5 * jnp.multiply(jnp.exp(x/2), r)\n",
    "def msvlp(x,y,u):\n",
    "    return MVN(loc = h_msv(x, 0.0, u), covariance_matrix = jnp.diag(jnp.exp(x/2.0)) @ R @ jnp.diag(jnp.exp(x/2.0))).log_prob(y)\n",
    "\n",
    "\n",
    "# Inputs\n",
    "# inputs = 1. * jnp.cos(0.1 * jnp.arange(seq_length))\n",
    "sm = lambda x : jnp.exp(x) / (1+jnp.exp(x))\n",
    "inputs = sm(jnp.arange(seq_length)-50) # off - on\n",
    "# inputs = 1.0 * jnp.ones(seq_length) # on - on"
   ]
  },
  {
   "cell_type": "code",
   "execution_count": null,
   "metadata": {},
   "outputs": [],
   "source": [
    "f = f63\n",
    "g = g1\n",
    "glp = g1lp"
   ]
  },
  {
   "cell_type": "code",
   "execution_count": null,
   "metadata": {},
   "outputs": [],
   "source": [
    "# initialization\n",
    "model = NonlinearSSM(state_dim, state_noise_dim, emission_dim, emission_noise_dim)\n",
    "params = ParamsNLSSM(\n",
    "    initial_mean=mu0,\n",
    "    initial_covariance=Sigma0,\n",
    "    dynamics_function=f,\n",
    "    dynamics_noise_bias=jnp.zeros(state_noise_dim),\n",
    "    dynamics_noise_covariance=Q,\n",
    "    emission_function=g,\n",
    "    emission_noise_bias=jnp.zeros(emission_noise_dim),\n",
    "    emission_noise_covariance=R,\n",
    ")\n",
    "\n",
    "# Generate synthetic data \n",
    "key = jr.PRNGKey(0)\n",
    "states, emissions = model.sample(params, key, seq_length, inputs = inputs)"
   ]
  },
  {
   "cell_type": "code",
   "execution_count": null,
   "metadata": {},
   "outputs": [],
   "source": [
    "plt.plot(states)\n",
    "plt.plot(emissions)\n",
    "plt.legend(['states', 'emissions'])\n",
    "plt.show()"
   ]
  },
  {
   "attachments": {},
   "cell_type": "markdown",
   "metadata": {},
   "source": [
    "## Inference"
   ]
  },
  {
   "cell_type": "code",
   "execution_count": null,
   "metadata": {},
   "outputs": [],
   "source": [
    "# GSF\n",
    "M = 5\n",
    "tin = time.time()\n",
    "posterior_filtered_gsf = gf.gaussian_sum_filter(params, emissions, M, 1, inputs)\n",
    "point_estimate_gsf = jnp.sum(jnp.einsum('ijk,ij->ijk', posterior_filtered_gsf.means, posterior_filtered_gsf.weights), axis=0)\n",
    "tout = time.time()\n",
    "print('Time taken for GSF: ', tout - tin)\n",
    "\n",
    "# AGSF\n",
    "tin = time.time()\n",
    "num_components = [M, 3, 3] # has to be set correctly OW \"TypeError: Cannot interpret '<function <lambda> at 0x12eae3ee0>' as a data type\". Check internal containers._branch_from_node\n",
    "posterior_filtered_agsf, aux_outputs = gf.augmented_gaussian_sum_filter(params, emissions, num_components, rng_key = jr.PRNGKey(11), opt_args = (0.8, 0.5), inputs=inputs)    \n",
    "point_estimate_agsf = jnp.sum(jnp.einsum('ijk,ij->ijk', posterior_filtered_agsf.means, posterior_filtered_agsf.weights), axis=0)\n",
    "tout = time.time()\n",
    "print('Time taken for AGSF: ', tout - tin)\n",
    "\n",
    "# BPF\n",
    "tin = time.time()\n",
    "num_particles = 100\n",
    "\n",
    "params_bpf = ParamsBPF(\n",
    "    initial_mean=mu0,\n",
    "    initial_covariance=Sigma0,\n",
    "    dynamics_function=f,\n",
    "    dynamics_noise_bias=jnp.zeros(state_noise_dim),\n",
    "    dynamics_noise_covariance=Q,\n",
    "    emission_function=g,\n",
    "    emission_noise_bias=jnp.zeros(emission_noise_dim),\n",
    "    emission_noise_covariance=R,\n",
    "    emission_distribution_log_prob = glp\n",
    ")\n",
    "\n",
    "posterior_bpf = gf.bootstrap_particle_filter(params_bpf, emissions, num_particles, key, inputs)\n",
    "point_estimate_bpf = jnp.sum(jnp.einsum('ijk,ij->ijk', posterior_bpf[\"particles\"], posterior_bpf[\"weights\"]), axis=0)\n",
    "tout = time.time()\n",
    "print('Time taken for BPF: ', tout - tin)"
   ]
  },
  {
   "cell_type": "code",
   "execution_count": null,
   "metadata": {},
   "outputs": [],
   "source": [
    "# Mean squared errors\n",
    "gsf_mse = (point_estimate_gsf - states)**2\n",
    "agsf_mse = (point_estimate_agsf - states)**2\n",
    "bpf_mse = (point_estimate_bpf - states)**2\n",
    "print('GSF MSE: ', jnp.mean((point_estimate_gsf - states)**2))\n",
    "print('AGSF MSE: ', jnp.mean((point_estimate_agsf - states)**2))\n",
    "print('BPF MSE: ', jnp.mean((point_estimate_bpf - states)**2))"
   ]
  },
  {
   "attachments": {},
   "cell_type": "markdown",
   "metadata": {},
   "source": [
    "## Plots"
   ]
  },
  {
   "cell_type": "code",
   "execution_count": null,
   "metadata": {},
   "outputs": [],
   "source": [
    "plt.plot(gsf_mse)\n",
    "plt.plot(agsf_mse)\n",
    "plt.plot(bpf_mse)\n",
    "plt.legend(['GSF', 'AGSF', 'BPF'])\n",
    "plt.show()"
   ]
  },
  {
   "cell_type": "code",
   "execution_count": null,
   "metadata": {},
   "outputs": [],
   "source": [
    "plt.plot(states)\n",
    "plt.plot(point_estimate_gsf)\n",
    "plt.plot(point_estimate_agsf)\n",
    "plt.plot(point_estimate_bpf)\n",
    "plt.legend(['x','gsf', 'agsf', 'bpf'])\n",
    "plt.show()"
   ]
  },
  {
   "attachments": {},
   "cell_type": "markdown",
   "metadata": {},
   "source": [
    "### GSF"
   ]
  },
  {
   "cell_type": "code",
   "execution_count": null,
   "metadata": {},
   "outputs": [],
   "source": [
    "num_components = M\n",
    "\n",
    "fig, axes = plt.subplots(4, 1, sharex=True, figsize=(10, 7))\n",
    "fig.tight_layout(pad=3.0)\n",
    "axes[0].plot(states, label=\"xs\")\n",
    "leg = [\"states\"]\n",
    "for m in range(M):\n",
    "    axes[0].plot(posterior_filtered_gsf.means[m])\n",
    "    leg.append(\"model {}\".format(m))\n",
    "    axes[0].set_title(\"filtered means\")\n",
    "#axes[0].legend(leg)\n",
    "\n",
    "if state_dim ==1:\n",
    "    for m in range(M):\n",
    "        axes[1].plot(posterior_filtered_gsf.covariances[m])\n",
    "        axes[1].set_title(\"filtered covariances\")\n",
    "\n",
    "for m in range(M):\n",
    "    axes[2].plot(posterior_filtered_gsf.weights[m])\n",
    "    axes[2].set_title(\"weights\")\n",
    "\n",
    "axes[3].plot(states, label=\"xs\")\n",
    "leg = [\"states\", \"GSF\"]\n",
    "axes[3].plot(point_estimate_gsf)\n",
    "axes[3].legend(leg)\n",
    "axes[3].set_title(\"point estimate\")\n",
    "plt.show()"
   ]
  },
  {
   "attachments": {},
   "cell_type": "markdown",
   "metadata": {},
   "source": [
    "### AGSF"
   ]
  },
  {
   "cell_type": "code",
   "execution_count": null,
   "metadata": {},
   "outputs": [],
   "source": [
    "fig, axes = plt.subplots(4, 1, sharex=True, figsize=(10, 7))\n",
    "fig.tight_layout(pad=3.0)\n",
    "axes[0].plot(states, label=\"xs\")\n",
    "leg = [\"states\"]\n",
    "for m in range(M):\n",
    "    axes[0].plot(posterior_filtered_agsf.means[m])\n",
    "    leg.append(\"model {}\".format(m))\n",
    "    axes[0].set_title(\"filtered means\")\n",
    "\n",
    "#axes[0].legend(leg)\n",
    "\n",
    "if state_dim == 1:\n",
    "    for m in range(M):\n",
    "        axes[1].plot(posterior_filtered_agsf.covariances[m].squeeze())\n",
    "        axes[1].set_title(\"filtered covariances\")\n",
    "\n",
    "else:\n",
    "    for m in range(jnp.prod(num_components)):\n",
    "        axes[1].plot(aux_outputs[\"updated_means\"][:,m])\n",
    "        axes[1].set_title(\"updated means\")\n",
    "\n",
    "for m in range(jnp.prod(jnp.array(num_components))):\n",
    "        axes[2].plot(aux_outputs[\"pre_weights\"][:,m])\n",
    "        axes[2].set_title(\"updated pre_weights\")\n",
    "\n",
    "axes[3].plot(states, label=\"xs\")\n",
    "leg = [\"states\", \"AGSF\"]\n",
    "axes[3].plot(point_estimate_agsf)\n",
    "axes[3].legend(leg)\n",
    "axes[3].set_title(\"point estimate\")\n",
    "\n",
    "plt.show()"
   ]
  },
  {
   "cell_type": "code",
   "execution_count": null,
   "metadata": {},
   "outputs": [],
   "source": [
    "# plot Deltas\n",
    "plt.figure(figsize=(10, 1))\n",
    "for i in range(aux_outputs[\"Deltas\"].shape[1]):\n",
    "    plt.plot(aux_outputs[\"Deltas\"][:, i, 0])\n",
    "plt.title('Deltas')\n",
    "plt.show()\n",
    "\n",
    "# plot Lambdas\n",
    "plt.figure(figsize=(10, 1))\n",
    "for i in range(aux_outputs[\"Lambdas\"].shape[1]):\n",
    "    plt.plot(aux_outputs[\"Lambdas\"][:, i, 0])\n",
    "plt.title('Lambdas')\n",
    "plt.show()\n",
    "\n",
    "# plot grads_dyn\n",
    "plt.figure(figsize=(10, 1))\n",
    "for i in range(aux_outputs[\"grads_dyn\"].shape[0]):\n",
    "    plt.plot(aux_outputs[\"grads_dyn\"][i, :, 0, 0])\n",
    "plt.title('grad_dyn')\n",
    "plt.show()\n",
    "\n",
    "# plot grads_obs\n",
    "plt.figure(figsize=(10, 1))\n",
    "for i in range(aux_outputs[\"grads_obs\"].shape[1]):\n",
    "    plt.plot(aux_outputs[\"grads_obs\"][:, i, 0, 0])\n",
    "plt.title('grad_obs')\n",
    "plt.show()\n",
    "\n",
    "# plot gain\n",
    "plt.figure(figsize=(10, 1))\n",
    "for i in range(aux_outputs[\"gain\"].shape[1]):\n",
    "    plt.plot(aux_outputs[\"gain\"][:, i, 0, 0])\n",
    "plt.title('gain')\n",
    "plt.show()\n",
    "\n",
    "# plot grads_dyn / gain\n",
    "plt.figure(figsize=(10, 1))\n",
    "for i in range(aux_outputs[\"grads_dyn\"].shape[1]):\n",
    "    plt.plot(aux_outputs[\"grads_dyn\"][:, i, 0, 0] / aux_outputs[\"gain\"][:, i * 3, 0, 0])\n",
    "plt.title('grad / gain')\n",
    "plt.show()"
   ]
  },
  {
   "cell_type": "code",
   "execution_count": null,
   "metadata": {},
   "outputs": [],
   "source": [
    "print(aux_outputs[\"Deltas\"][40,:,0,0])\n",
    "print(aux_outputs[\"Lambdas\"][40,:,0,0])\n",
    "print(aux_outputs[\"Deltas\"][60,:, 0,0])\n",
    "print(aux_outputs[\"Lambdas\"][60,:,0,0])"
   ]
  },
  {
   "attachments": {},
   "cell_type": "markdown",
   "metadata": {},
   "source": [
    "### BPF"
   ]
  },
  {
   "cell_type": "code",
   "execution_count": null,
   "metadata": {},
   "outputs": [],
   "source": [
    "fig, axes = plt.subplots(2, 1, sharex=True, figsize=(10, 7))\n",
    "fig.tight_layout(pad=3.0)\n",
    "axes[0].plot(states, label=\"xs\")\n",
    "leg = [\"states\"]\n",
    "for m in range(num_particles):\n",
    "    axes[0].plot(posterior_bpf[\"particles\"][m])\n",
    "    leg.append(\"model {}\".format(m))\n",
    "    axes[0].set_title(\"particles\")\n",
    "\n",
    "for m in range(num_particles):\n",
    "    axes[1].plot(posterior_bpf[\"weights\"][m])\n",
    "    axes[1].set_title(\"weights\")\n",
    "\n",
    "plt.show()"
   ]
  }
 ],
 "metadata": {
  "kernelspec": {
   "display_name": "Python 3",
   "language": "python",
   "name": "python3"
  },
  "language_info": {
   "codemirror_mode": {
    "name": "ipython",
    "version": 3
   },
   "file_extension": ".py",
   "mimetype": "text/x-python",
   "name": "python",
   "nbconvert_exporter": "python",
   "pygments_lexer": "ipython3",
   "version": "3.9.6"
  },
  "orig_nbformat": 4,
  "vscode": {
   "interpreter": {
    "hash": "31f2aee4e71d21fbe5cf8b01ff0e069b9275f58929596ceb00d14d90e3e16cd6"
   }
  }
 },
 "nbformat": 4,
 "nbformat_minor": 2
}
