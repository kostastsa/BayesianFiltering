{
 "cells": [
  {
   "cell_type": "code",
   "execution_count": 51,
   "metadata": {},
   "outputs": [],
   "source": [
    "from jax import numpy as jnp\n",
    "from jax import jacfwd, jacrev, jit, vmap, lax, make_jaxpr\n",
    "from jax import random as jr\n",
    "from jax import tree_util as jtu\n",
    "from functools import partial\n",
    "\n",
    "import gaussfiltax.utils as utils\n",
    "import gaussfiltax.containers as containers\n",
    "from dynamax.nonlinear_gaussian_ssm.models import ParamsNLGSSM, NonlinearGaussianSSM\n",
    "from tensorflow_probability.substrates.jax.distributions import MultivariateNormalFullCovariance as MVN\n",
    "import time\n",
    "import gaussfiltax.inference as gf\n",
    "\n",
    "import matplotlib.pyplot as plt"
   ]
  },
  {
   "cell_type": "code",
   "execution_count": 36,
   "metadata": {},
   "outputs": [
    {
     "ename": "ConcretizationTypeError",
     "evalue": "Abstract tracer value encountered where concrete value is expected: Traced<ShapedArray(bool[], weak_type=True)>with<DynamicJaxprTrace(level=1/0)>\nThe problem arose with the `bool` function. \nThe error occurred while tracing the function _step at /var/folders/cf/9kb2d0x96lb876lx1vnj8rt40000gn/T/ipykernel_53850/1059058076.py:2 for scan. This concrete value was not available in Python because it depends on the value of the argument 'carry'.\n\nSee https://jax.readthedocs.io/en/latest/errors.html#jax.errors.ConcretizationTypeError",
     "output_type": "error",
     "traceback": [
      "\u001b[0;31m---------------------------------------------------------------------------\u001b[0m",
      "\u001b[0;31mConcretizationTypeError\u001b[0m                   Traceback (most recent call last)",
      "Cell \u001b[0;32mIn[36], line 11\u001b[0m\n\u001b[1;32m      8\u001b[0m     carry \u001b[39m=\u001b[39m (cum, current_input)\n\u001b[1;32m      9\u001b[0m     \u001b[39mreturn\u001b[39;00m carry, cum\n\u001b[0;32m---> 11\u001b[0m lax\u001b[39m.\u001b[39;49mscan(_step, (\u001b[39m0\u001b[39;49m, \u001b[39mFalse\u001b[39;49;00m), bool_array)\n",
      "    \u001b[0;31m[... skipping hidden 9 frame]\u001b[0m\n",
      "Cell \u001b[0;32mIn[36], line 5\u001b[0m, in \u001b[0;36m_step\u001b[0;34m(carry, input)\u001b[0m\n\u001b[1;32m      3\u001b[0m cum, prev_input \u001b[39m=\u001b[39m carry\n\u001b[1;32m      4\u001b[0m current_input \u001b[39m=\u001b[39m \u001b[39minput\u001b[39m\n\u001b[0;32m----> 5\u001b[0m \u001b[39mif\u001b[39;00m (prev_input \u001b[39mand\u001b[39;00m current_input):\n\u001b[1;32m      6\u001b[0m   cum \u001b[39m+\u001b[39m\u001b[39m=\u001b[39m \u001b[39m1\u001b[39m\n\u001b[1;32m      7\u001b[0m cum \u001b[39m+\u001b[39m\u001b[39m=\u001b[39m prev_input\u001b[39m*\u001b[39mcurrent_input\n",
      "    \u001b[0;31m[... skipping hidden 1 frame]\u001b[0m\n",
      "File \u001b[0;32m~/Library/Python/3.9/lib/python/site-packages/jax/core.py:1264\u001b[0m, in \u001b[0;36mconcretization_function_error.<locals>.error\u001b[0;34m(self, arg)\u001b[0m\n\u001b[1;32m   1263\u001b[0m \u001b[39mdef\u001b[39;00m \u001b[39merror\u001b[39m(\u001b[39mself\u001b[39m, arg):\n\u001b[0;32m-> 1264\u001b[0m   \u001b[39mraise\u001b[39;00m ConcretizationTypeError(arg, fname_context)\n",
      "\u001b[0;31mConcretizationTypeError\u001b[0m: Abstract tracer value encountered where concrete value is expected: Traced<ShapedArray(bool[], weak_type=True)>with<DynamicJaxprTrace(level=1/0)>\nThe problem arose with the `bool` function. \nThe error occurred while tracing the function _step at /var/folders/cf/9kb2d0x96lb876lx1vnj8rt40000gn/T/ipykernel_53850/1059058076.py:2 for scan. This concrete value was not available in Python because it depends on the value of the argument 'carry'.\n\nSee https://jax.readthedocs.io/en/latest/errors.html#jax.errors.ConcretizationTypeError"
     ]
    }
   ],
   "source": [
    "bool_array = jr.bernoulli(jr.PRNGKey(0), 0.5, (100,))\n",
    "def _step(carry, input):\n",
    "    cum, prev_input = carry\n",
    "    current_input = input\n",
    "    if (prev_input and current_input):\n",
    "      cum += 1\n",
    "    cum += prev_input*current_input\n",
    "    carry = (cum, current_input)\n",
    "    return carry, cum\n",
    "\n",
    "lax.scan(_step, (0, False), bool_array)"
   ]
  },
  {
   "cell_type": "code",
   "execution_count": null,
   "metadata": {},
   "outputs": [],
   "source": [
    "def f(x, n):\n",
    "    y=0.\n",
    "    for i in range(n):\n",
    "        y = y + x[i]\n",
    "    return y\n",
    "\n",
    "f_jit = jit(f, static_argnums=(1,))\n",
    "x = (jnp.array([2.0,5.0,4.0]), 15)\n",
    "\n",
    "print(make_jaxpr(f_jit, static_argnums=(1,))(*x))"
   ]
  },
  {
   "cell_type": "code",
   "execution_count": 55,
   "metadata": {},
   "outputs": [
    {
     "ename": "TypeError",
     "evalue": "Shapes must be 1D sequences of concrete values of integer type, got (Traced<ShapedArray(int32[])>with<DynamicJaxprTrace(level=1/0)>,).\nIf using `jit`, try using `static_argnums` or applying `jit` to smaller subfunctions.",
     "output_type": "error",
     "traceback": [
      "\u001b[0;31m---------------------------------------------------------------------------\u001b[0m",
      "\u001b[0;31mTypeError\u001b[0m                                 Traceback (most recent call last)",
      "Cell \u001b[0;32mIn[55], line 14\u001b[0m\n\u001b[1;32m     10\u001b[0m     \u001b[39mreturn\u001b[39;00m carry, cum\n\u001b[1;32m     13\u001b[0m \u001b[39m#_partial_step = partial(_step, static_argnums=(1,))\u001b[39;00m\n\u001b[0;32m---> 14\u001b[0m lax\u001b[39m.\u001b[39;49mscan(_step, \u001b[39m0.\u001b[39;49m, jnp\u001b[39m.\u001b[39;49marange(\u001b[39m100\u001b[39;49m))\n",
      "    \u001b[0;31m[... skipping hidden 9 frame]\u001b[0m\n",
      "Cell \u001b[0;32mIn[55], line 6\u001b[0m, in \u001b[0;36m_step\u001b[0;34m(carry, t)\u001b[0m\n\u001b[1;32m      4\u001b[0m \u001b[39minput\u001b[39m \u001b[39m=\u001b[39m shapes[t]\n\u001b[1;32m      5\u001b[0m cum \u001b[39m=\u001b[39m carry\n\u001b[0;32m----> 6\u001b[0m new_state \u001b[39m=\u001b[39m jr\u001b[39m.\u001b[39;49mnormal(jr\u001b[39m.\u001b[39;49mPRNGKey(\u001b[39m0\u001b[39;49m), (\u001b[39minput\u001b[39;49m,))\n\u001b[1;32m      7\u001b[0m new_mean \u001b[39m=\u001b[39m jnp\u001b[39m.\u001b[39mmean(new_state)\n\u001b[1;32m      8\u001b[0m cum \u001b[39m+\u001b[39m\u001b[39m=\u001b[39m new_mean\n",
      "File \u001b[0;32m~/Library/Python/3.9/lib/python/site-packages/jax/_src/random.py:561\u001b[0m, in \u001b[0;36mnormal\u001b[0;34m(key, shape, dtype)\u001b[0m\n\u001b[1;32m    558\u001b[0m   \u001b[39mraise\u001b[39;00m \u001b[39mValueError\u001b[39;00m(\u001b[39mf\u001b[39m\u001b[39m\"\u001b[39m\u001b[39mdtype argument to `normal` must be a float or complex dtype, \u001b[39m\u001b[39m\"\u001b[39m\n\u001b[1;32m    559\u001b[0m                    \u001b[39mf\u001b[39m\u001b[39m\"\u001b[39m\u001b[39mgot \u001b[39m\u001b[39m{\u001b[39;00mdtype\u001b[39m}\u001b[39;00m\u001b[39m\"\u001b[39m)\n\u001b[1;32m    560\u001b[0m dtype \u001b[39m=\u001b[39m dtypes\u001b[39m.\u001b[39mcanonicalize_dtype(dtype)\n\u001b[0;32m--> 561\u001b[0m shape \u001b[39m=\u001b[39m core\u001b[39m.\u001b[39;49mas_named_shape(shape)\n\u001b[1;32m    562\u001b[0m \u001b[39mreturn\u001b[39;00m _normal(key, shape, dtype)\n",
      "    \u001b[0;31m[... skipping hidden 2 frame]\u001b[0m\n",
      "File \u001b[0;32m~/Library/Python/3.9/lib/python/site-packages/jax/core.py:1904\u001b[0m, in \u001b[0;36mcanonicalize_shape\u001b[0;34m(shape, context)\u001b[0m\n\u001b[1;32m   1902\u001b[0m \u001b[39mexcept\u001b[39;00m \u001b[39mTypeError\u001b[39;00m:\n\u001b[1;32m   1903\u001b[0m   \u001b[39mpass\u001b[39;00m\n\u001b[0;32m-> 1904\u001b[0m \u001b[39mraise\u001b[39;00m _invalid_shape_error(shape, context)\n",
      "\u001b[0;31mTypeError\u001b[0m: Shapes must be 1D sequences of concrete values of integer type, got (Traced<ShapedArray(int32[])>with<DynamicJaxprTrace(level=1/0)>,).\nIf using `jit`, try using `static_argnums` or applying `jit` to smaller subfunctions."
     ]
    }
   ],
   "source": [
    "shapes = jr.choice(jr.PRNGKey(0), jnp.arange(10), (100,))\n",
    "\n",
    "def _step(carry, t):\n",
    "    cum = carry\n",
    "    new_state = jr.normal(jr.PRNGKey(0), (10,))\n",
    "    new_mean = jnp.mean(new_state)\n",
    "    cum += new_mean\n",
    "    carry = cum\n",
    "    return carry, cum\n",
    "\n",
    "\n",
    "#_partial_step = partial(_step, static_argnums=(1,))\n",
    "lax.scan(_step, 0., jnp.arange(100))"
   ]
  }
 ],
 "metadata": {
  "kernelspec": {
   "display_name": "Python 3",
   "language": "python",
   "name": "python3"
  },
  "language_info": {
   "codemirror_mode": {
    "name": "ipython",
    "version": 3
   },
   "file_extension": ".py",
   "mimetype": "text/x-python",
   "name": "python",
   "nbconvert_exporter": "python",
   "pygments_lexer": "ipython3",
   "version": "3.9.6"
  },
  "orig_nbformat": 4,
  "vscode": {
   "interpreter": {
    "hash": "31f2aee4e71d21fbe5cf8b01ff0e069b9275f58929596ceb00d14d90e3e16cd6"
   }
  }
 },
 "nbformat": 4,
 "nbformat_minor": 2
}
