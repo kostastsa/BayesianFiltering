{
 "cells": [
  {
   "cell_type": "code",
   "execution_count": 22,
   "metadata": {},
   "outputs": [
    {
     "name": "stdout",
     "output_type": "stream",
     "text": [
      "/Users/kostastsampourakis/Desktop/code/Python/projects/BayesianFiltering\n"
     ]
    }
   ],
   "source": [
    "%cd /Users/kostastsampourakis/Desktop/code/Python/projects/BayesianFiltering\n",
    "import codebase.utils as utils\n",
    "import codebase.gaussfilt as gf\n",
    "import numpy as np\n",
    "from jax import numpy as jnp\n",
    "from jax import random as jrandom\n",
    "from jax import jacfwd, jacrev, vmap\n",
    "from numpy import random\n",
    "import matplotlib.pyplot as plt\n",
    "import codebase.gausssumfilt as gsf\n",
    "import pandas as pd\n",
    "import codebase.particlefilt as pf\n",
    "import time"
   ]
  },
  {
   "cell_type": "code",
   "execution_count": 35,
   "metadata": {},
   "outputs": [],
   "source": [
    "def project_to_psd(Delta):\n",
    "    evals, evec = np.linalg.eig(Delta)\n",
    "    nonzero_eig = np.sum(evals > 0)\n",
    "    new_evals = np.multiply(evals > 0, evals)\n",
    "    new_Delta = evec @ np.diag(new_evals) @ evec.T\n",
    "    return (new_Delta + new_Delta.T) / 2\n",
    "\n",
    "\n",
    "def gradient_descent(dim, N, L, X0, P, H, Nsteps, eta):\n",
    "    X = X0\n",
    "    for i in range(Nsteps):\n",
    "        X = X - eta * (-(2 * L ** 2 / N) * np.eye(dim) + (1 / 2) * np.trace(np.matmul(H, X)) * H)\n",
    "    return X\n",
    "\n",
    "\n",
    "def sdp_opt(dim, N, L, X0, P, H, Nsteps, eta):\n",
    "    X = X0\n",
    "    for i in range(Nsteps):\n",
    "        X = gradient_descent(dim, N, L, X, P, H, 1, eta ** i)\n",
    "        X = project_to_psd(X)\n",
    "        X = P - project_to_psd(P - X)\n",
    "        X = project_to_psd(X)\n",
    "    return X.reshape(dim, dim)\n",
    "\n",
    "def f(x, sigma=10, rho=28, beta=2.667, dt=0.01):\n",
    "    dx = dt * sigma * (x[1]**3 - x[0]*x[1]*x[2])\n",
    "    dy = dt * (x[0] * rho - x[1] - x[0] *x[2]**2) \n",
    "    dz = dt * (x[0] * x[1] - beta * x[2])\n",
    "    return jnp.array([dx+x[0], dy+x[1], dz+x[2]])\n",
    "\n",
    "\n",
    "jacobian = jacfwd(f)\n",
    "hessian = jacrev(jacobian)"
   ]
  },
  {
   "cell_type": "code",
   "execution_count": 79,
   "metadata": {},
   "outputs": [
    {
     "name": "stdout",
     "output_type": "stream",
     "text": [
      "[[1.0020027  0.02212034 0.02255214]\n",
      " [0.02212034 0.86550784 0.02731085]\n",
      " [0.02255214 0.02731085 1.001757  ]]\n",
      "[[0.9871601  0.0176468  0.00733725]\n",
      " [0.0176468  0.86415946 0.02272514]\n",
      " [0.00733725 0.02272514 0.9861605 ]]\n"
     ]
    }
   ],
   "source": [
    "mu = jnp.array([1.0, 1.0, 1.0])\n",
    "Sigma = jnp.eye(3)\n",
    "sample = jrandom.multivariate_normal(jrandom.PRNGKey(0), mu, Sigma, (10,))\n",
    "vhessian = vmap(hessian)\n",
    "hess_array = vhessian(sample)\n",
    "\n",
    "## Gradient descent\n",
    "X = Sigma\n",
    "eta = 0.01\n",
    "L = 0.1 \n",
    "N = 10\n",
    "dim = 3\n",
    "sum_hess = jnp.sum(hess_array, axis=0)\n",
    "for i in range(100):\n",
    "    coeffs = jnp.sum(jnp.trace(jnp.matmul(X, hess_array), axis1=2, axis2=3), axis = 0)\n",
    "    term_two = jnp.zeros((dim, dim))\n",
    "    for j in range(dim):\n",
    "        term_two += coeffs[j] * sum_hess[j]\n",
    "    X = X - eta * (-(2 * L ** 2 / N) * np.eye(dim) + (1 / 2 / N**2) * term_two)\n",
    "X = project_to_psd(X)\n",
    "X = Sigma - project_to_psd(Sigma - X)\n",
    "X = project_to_psd(X)\n",
    "print(X)\n",
    "\n",
    "\n"
   ]
  }
 ],
 "metadata": {
  "kernelspec": {
   "display_name": "Python 3",
   "language": "python",
   "name": "python3"
  },
  "language_info": {
   "codemirror_mode": {
    "name": "ipython",
    "version": 3
   },
   "file_extension": ".py",
   "mimetype": "text/x-python",
   "name": "python",
   "nbconvert_exporter": "python",
   "pygments_lexer": "ipython3",
   "version": "3.9.6 (default, Oct 18 2022, 12:41:40) \n[Clang 14.0.0 (clang-1400.0.29.202)]"
  },
  "orig_nbformat": 4,
  "vscode": {
   "interpreter": {
    "hash": "31f2aee4e71d21fbe5cf8b01ff0e069b9275f58929596ceb00d14d90e3e16cd6"
   }
  }
 },
 "nbformat": 4,
 "nbformat_minor": 2
}
