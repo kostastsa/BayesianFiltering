{
 "cells": [
  {
   "cell_type": "code",
   "execution_count": 2,
   "metadata": {},
   "outputs": [],
   "source": [
    "from jax import jit, jacfwd, jacrev\n",
    "import jax.random as jr\n",
    "import jax.numpy as jnp\n",
    "import matplotlib.pyplot as plt\n",
    "import numpy as np\n",
    "import gaussfiltax.static_utils as ts\n",
    "import gaussfiltax.utils as utils\n",
    "import scienceplots\n",
    "from typing import NamedTuple\n",
    "from jaxtyping import Float32\n",
    "from itertools import count\n",
    "from tensorflow_probability.substrates.jax.distributions import MultivariateNormalFullCovariance as MVN\n",
    "import tensorflow_probability.substrates.jax.distributions as tfd\n",
    "import matplotlib.pyplot as plt\n",
    "from matplotlib.patches import Ellipse"
   ]
  },
  {
   "cell_type": "code",
   "execution_count": 62,
   "metadata": {},
   "outputs": [],
   "source": [
    "f = lambda x : jnp.dot(x, x)\n",
    "\n",
    "dx = 2\n",
    "Nprt = 100\n",
    "mu = jnp.array([0.00001, 0.00001])\n",
    "cov = 1 * jnp.eye(2)\n",
    "Q = 0.1 * jnp.eye(1)\n",
    "y0 = 1.0\n",
    "hessian = jit(jacfwd(jacrev(f)))\n",
    "hess = hessian(mu)\n",
    "Delta =  0.1 * cov #utils.sdp_opt(2, cov, hess, 1, 0.01)\n",
    "model = ts.AugmentedJointApproximation(Nprt, f, dx, 1, mu, cov, Q, Delta)\n",
    "keys = map(jr.PRNGKey, count(11))\n",
    "posterior = model.return_posterior([y0], keys)[0]\n",
    "grads = model.return_posterior([y0], keys)[1]"
   ]
  },
  {
   "cell_type": "code",
   "execution_count": 63,
   "metadata": {},
   "outputs": [
    {
     "data": {
      "image/png": "[encoded data removed]",
      "text/plain": [
       "<Figure size 350x262.5 with 1 Axes>"
      ]
     },
     "metadata": {},
     "output_type": "display_data"
    }
   ],
   "source": [
    "plt.style.use('science')\n",
    "ax = plt.gca()\n",
    "p = posterior.weights\n",
    "p = np.asarray(p).astype('float64')\n",
    "p = p / np.sum(p)\n",
    "idx = np.random.choice(Nprt, 100, replace=True, p=p)\n",
    "for i in range(Nprt):\n",
    "    ts.plot_cov_ellipse(posterior.covs[i], posterior.means[i], nstd=2, ax=ax, alpha=5*p[i])\n",
    "plt.scatter(posterior.means[:, 0], posterior.means[:, 1], s=0.1, c='r')\n",
    "plt.show()"
   ]
  },
  {
   "cell_type": "code",
   "execution_count": 56,
   "metadata": {},
   "outputs": [
    {
     "name": "stdout",
     "output_type": "stream",
     "text": [
      "[-7.29663181 64.08931732]\n"
     ]
    }
   ],
   "source": [
    "print(posterior.means[33])"
   ]
  }
 ],
 "metadata": {
  "kernelspec": {
   "display_name": "Python 3",
   "language": "python",
   "name": "python3"
  },
  "language_info": {
   "codemirror_mode": {
    "name": "ipython",
    "version": 3
   },
   "file_extension": ".py",
   "mimetype": "text/x-python",
   "name": "python",
   "nbconvert_exporter": "python",
   "pygments_lexer": "ipython3",
   "version": "3.9.6"
  },
  "orig_nbformat": 4,
  "vscode": {
   "interpreter": {
    "hash": "31f2aee4e71d21fbe5cf8b01ff0e069b9275f58929596ceb00d14d90e3e16cd6"
   }
  }
 },
 "nbformat": 4,
 "nbformat_minor": 2
}
